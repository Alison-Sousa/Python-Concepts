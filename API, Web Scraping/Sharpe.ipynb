{
  "nbformat": 4,
  "nbformat_minor": 0,
  "metadata": {
    "colab": {
      "provenance": [],
      "mount_file_id": "1Rkkm5xenqXEm5VIrMvhXPk2BLqX4Y0Cl",
      "authorship_tag": "ABX9TyMpWAKA0Xe66wop8vrJGqTR"
    },
    "kernelspec": {
      "name": "python3",
      "display_name": "Python 3"
    },
    "language_info": {
      "name": "python"
    }
  },
  "cells": [
    {
      "cell_type": "markdown",
      "source": [
        "**Problema 1**\n",
        "\n",
        "Vamos começar pelo passo 1: ler o arquivo CSV e examinar sua estrutura."
      ],
      "metadata": {
        "id": "Yq9BlwRPAxNb"
      }
    },
    {
      "cell_type": "code",
      "source": [
        "# Importando bibliotecas necessárias\n",
        "\n",
        "import pandas as pd\n",
        "from tabulate import tabulate\n",
        "\n",
        "# Lendo o caminho do arquivo em um DataFrame do Pandas.\n",
        "# No caso, o separador é ';'.\n",
        "path = \"/content/drive/MyDrive/Colab Notebooks/series_retornos.csv\"\n",
        "df = pd.read_csv(path, sep=';')\n",
        "\n",
        "# Tabulate para exibir os dados de forma mais \"vísivel\".\n",
        "print(\"Primeiras linhas:\")\n",
        "print(tabulate(df.head(), headers='keys', tablefmt='pretty'))\n",
        "\n",
        "print(\"\\nÚltimas linhas:\")\n",
        "print(tabulate(df.tail(), headers='keys', tablefmt='pretty'))\n"
      ],
      "metadata": {
        "colab": {
          "base_uri": "https://localhost:8080/"
        },
        "id": "UHQEOFiAWzw4",
        "outputId": "d6b891e3-0b1c-4d98-85de-91f63c363007"
      },
      "execution_count": null,
      "outputs": [
        {
          "output_type": "stream",
          "name": "stdout",
          "text": [
            "Primeiras linhas:\n",
            "+---+--------+-------+------+---------------------+---------------------+---------------------+---------------------+---------------------+\n",
            "|   |  year  | month | day  |          A          |          B          |          C          |          D          |          E          |\n",
            "+---+--------+-------+------+---------------------+---------------------+---------------------+---------------------+---------------------+\n",
            "| 0 | 2010.0 |  1.0  | 5.0  | 0.0058823529411746  | 0.0064805583250249  | -0.0085744908896056 | 0.0093221984851434  | -0.0021822149481702 |\n",
            "| 1 | 2010.0 |  1.0  | 6.0  | 0.0102014294996759  | -0.0086676572560665 | 0.0135135135135175  | 0.0211660573407708  | 0.0054674685620554  |\n",
            "| 2 | 2010.0 |  1.0  | 7.0  |  0.004695439634657  | -0.010242318261305  | -0.0093333333333298 |  0.004145468249483  |  0.016856987493204  |\n",
            "| 3 | 2010.0 |  1.0  | 8.0  | -0.0019206145966712 | -0.0151438667339713 | -0.0053835800807606 | 0.0097579283167563  | 0.0363636363636357  |\n",
            "| 4 | 2010.0 |  1.0  | 11.0 | -0.0121872995509945 | -0.0087134802665309 | -0.0032476319350426 | -0.0029734250139354 | -0.0113519091847296 |\n",
            "+---+--------+-------+------+---------------------+---------------------+---------------------+---------------------+---------------------+\n",
            "\n",
            "Últimas linhas:\n",
            "+------+--------+-------+------+---------------------+---------------------+---------------------+---------------------+---------------------+\n",
            "|      |  year  | month | day  |          A          |          B          |          C          |          D          |          E          |\n",
            "+------+--------+-------+------+---------------------+---------------------+---------------------+---------------------+---------------------+\n",
            "| 3212 | 2022.0 | 12.0  | 23.0 | 0.0138696255201109  |  0.015725806451613  | 0.0471029595664833  | 0.0066472303206999  | -0.0112994350282484 |\n",
            "| 3213 | 2022.0 | 12.0  | 26.0 | -0.0068399452804377 | -0.0198491464867043 | -0.0071656050955385 | 0.0091519925857277  | -0.0080519480519486 |\n",
            "| 3214 | 2022.0 | 12.0  | 27.0 |         0.0         | -0.0056703118671513 | 0.0068163592622285  | 0.0238778555848924  | -0.0047132757266286 |\n",
            "| 3215 | 2022.0 | 12.0  | 28.0 | 0.0020661157024794  | 0.0203665987780035  | -0.0123456790123455 | -0.0022424038569347 | 0.0181531176006304  |\n",
            "| 3216 | 2022.0 | 12.0  | 29.0 | -0.0020618556701031 | -0.0019960079840314 | -0.0120967741935502 | -0.0012360939431396 | -0.0049095607235147 |\n",
            "+------+--------+-------+------+---------------------+---------------------+---------------------+---------------------+---------------------+\n"
          ]
        }
      ]
    },
    {
      "cell_type": "markdown",
      "source": [
        "Vamos começar pelo passo 1: ler o arquivo CSV e examinar sua estrutura (Normal).\n",
        "\n"
      ],
      "metadata": {
        "id": "2pwEoS5HXmPx"
      }
    },
    {
      "cell_type": "code",
      "source": [
        "# Importando as bibliotecas necessárias\n",
        "import pandas as pd\n",
        "\n",
        "# Ler o arquivo CSV\n",
        "file_path = '/content/drive/MyDrive/Colab Notebooks/series_retornos.csv'\n",
        "df = pd.read_csv(file_path, sep=';')\n",
        "\n",
        "# Exibir as primeiras linhas para entender a estrutura dos dados\n",
        "df.head()\n"
      ],
      "metadata": {
        "colab": {
          "base_uri": "https://localhost:8080/",
          "height": 206
        },
        "id": "ptxufg41XPNw",
        "outputId": "cd96e39d-d644-497a-bf8c-3356f9465149"
      },
      "execution_count": null,
      "outputs": [
        {
          "output_type": "execute_result",
          "data": {
            "text/plain": [
              "   year  month  day         A         B         C         D         E\n",
              "0  2010      1    5  0.005882  0.006481 -0.008574  0.009322 -0.002182\n",
              "1  2010      1    6  0.010201 -0.008668  0.013514  0.021166  0.005467\n",
              "2  2010      1    7  0.004695 -0.010242 -0.009333  0.004145  0.016857\n",
              "3  2010      1    8 -0.001921 -0.015144 -0.005384  0.009758  0.036364\n",
              "4  2010      1   11 -0.012187 -0.008713 -0.003248 -0.002973 -0.011352"
            ],
            "text/html": [
              "\n",
              "  <div id=\"df-00531478-2285-4f04-8a7f-991edb7c9e19\" class=\"colab-df-container\">\n",
              "    <div>\n",
              "<style scoped>\n",
              "    .dataframe tbody tr th:only-of-type {\n",
              "        vertical-align: middle;\n",
              "    }\n",
              "\n",
              "    .dataframe tbody tr th {\n",
              "        vertical-align: top;\n",
              "    }\n",
              "\n",
              "    .dataframe thead th {\n",
              "        text-align: right;\n",
              "    }\n",
              "</style>\n",
              "<table border=\"1\" class=\"dataframe\">\n",
              "  <thead>\n",
              "    <tr style=\"text-align: right;\">\n",
              "      <th></th>\n",
              "      <th>year</th>\n",
              "      <th>month</th>\n",
              "      <th>day</th>\n",
              "      <th>A</th>\n",
              "      <th>B</th>\n",
              "      <th>C</th>\n",
              "      <th>D</th>\n",
              "      <th>E</th>\n",
              "    </tr>\n",
              "  </thead>\n",
              "  <tbody>\n",
              "    <tr>\n",
              "      <th>0</th>\n",
              "      <td>2010</td>\n",
              "      <td>1</td>\n",
              "      <td>5</td>\n",
              "      <td>0.005882</td>\n",
              "      <td>0.006481</td>\n",
              "      <td>-0.008574</td>\n",
              "      <td>0.009322</td>\n",
              "      <td>-0.002182</td>\n",
              "    </tr>\n",
              "    <tr>\n",
              "      <th>1</th>\n",
              "      <td>2010</td>\n",
              "      <td>1</td>\n",
              "      <td>6</td>\n",
              "      <td>0.010201</td>\n",
              "      <td>-0.008668</td>\n",
              "      <td>0.013514</td>\n",
              "      <td>0.021166</td>\n",
              "      <td>0.005467</td>\n",
              "    </tr>\n",
              "    <tr>\n",
              "      <th>2</th>\n",
              "      <td>2010</td>\n",
              "      <td>1</td>\n",
              "      <td>7</td>\n",
              "      <td>0.004695</td>\n",
              "      <td>-0.010242</td>\n",
              "      <td>-0.009333</td>\n",
              "      <td>0.004145</td>\n",
              "      <td>0.016857</td>\n",
              "    </tr>\n",
              "    <tr>\n",
              "      <th>3</th>\n",
              "      <td>2010</td>\n",
              "      <td>1</td>\n",
              "      <td>8</td>\n",
              "      <td>-0.001921</td>\n",
              "      <td>-0.015144</td>\n",
              "      <td>-0.005384</td>\n",
              "      <td>0.009758</td>\n",
              "      <td>0.036364</td>\n",
              "    </tr>\n",
              "    <tr>\n",
              "      <th>4</th>\n",
              "      <td>2010</td>\n",
              "      <td>1</td>\n",
              "      <td>11</td>\n",
              "      <td>-0.012187</td>\n",
              "      <td>-0.008713</td>\n",
              "      <td>-0.003248</td>\n",
              "      <td>-0.002973</td>\n",
              "      <td>-0.011352</td>\n",
              "    </tr>\n",
              "  </tbody>\n",
              "</table>\n",
              "</div>\n",
              "    <div class=\"colab-df-buttons\">\n",
              "\n",
              "  <div class=\"colab-df-container\">\n",
              "    <button class=\"colab-df-convert\" onclick=\"convertToInteractive('df-00531478-2285-4f04-8a7f-991edb7c9e19')\"\n",
              "            title=\"Convert this dataframe to an interactive table.\"\n",
              "            style=\"display:none;\">\n",
              "\n",
              "  <svg xmlns=\"http://www.w3.org/2000/svg\" height=\"24px\" viewBox=\"0 -960 960 960\">\n",
              "    <path d=\"M120-120v-720h720v720H120Zm60-500h600v-160H180v160Zm220 220h160v-160H400v160Zm0 220h160v-160H400v160ZM180-400h160v-160H180v160Zm440 0h160v-160H620v160ZM180-180h160v-160H180v160Zm440 0h160v-160H620v160Z\"/>\n",
              "  </svg>\n",
              "    </button>\n",
              "\n",
              "  <style>\n",
              "    .colab-df-container {\n",
              "      display:flex;\n",
              "      gap: 12px;\n",
              "    }\n",
              "\n",
              "    .colab-df-convert {\n",
              "      background-color: #E8F0FE;\n",
              "      border: none;\n",
              "      border-radius: 50%;\n",
              "      cursor: pointer;\n",
              "      display: none;\n",
              "      fill: #1967D2;\n",
              "      height: 32px;\n",
              "      padding: 0 0 0 0;\n",
              "      width: 32px;\n",
              "    }\n",
              "\n",
              "    .colab-df-convert:hover {\n",
              "      background-color: #E2EBFA;\n",
              "      box-shadow: 0px 1px 2px rgba(60, 64, 67, 0.3), 0px 1px 3px 1px rgba(60, 64, 67, 0.15);\n",
              "      fill: #174EA6;\n",
              "    }\n",
              "\n",
              "    .colab-df-buttons div {\n",
              "      margin-bottom: 4px;\n",
              "    }\n",
              "\n",
              "    [theme=dark] .colab-df-convert {\n",
              "      background-color: #3B4455;\n",
              "      fill: #D2E3FC;\n",
              "    }\n",
              "\n",
              "    [theme=dark] .colab-df-convert:hover {\n",
              "      background-color: #434B5C;\n",
              "      box-shadow: 0px 1px 3px 1px rgba(0, 0, 0, 0.15);\n",
              "      filter: drop-shadow(0px 1px 2px rgba(0, 0, 0, 0.3));\n",
              "      fill: #FFFFFF;\n",
              "    }\n",
              "  </style>\n",
              "\n",
              "    <script>\n",
              "      const buttonEl =\n",
              "        document.querySelector('#df-00531478-2285-4f04-8a7f-991edb7c9e19 button.colab-df-convert');\n",
              "      buttonEl.style.display =\n",
              "        google.colab.kernel.accessAllowed ? 'block' : 'none';\n",
              "\n",
              "      async function convertToInteractive(key) {\n",
              "        const element = document.querySelector('#df-00531478-2285-4f04-8a7f-991edb7c9e19');\n",
              "        const dataTable =\n",
              "          await google.colab.kernel.invokeFunction('convertToInteractive',\n",
              "                                                    [key], {});\n",
              "        if (!dataTable) return;\n",
              "\n",
              "        const docLinkHtml = 'Like what you see? Visit the ' +\n",
              "          '<a target=\"_blank\" href=https://colab.research.google.com/notebooks/data_table.ipynb>data table notebook</a>'\n",
              "          + ' to learn more about interactive tables.';\n",
              "        element.innerHTML = '';\n",
              "        dataTable['output_type'] = 'display_data';\n",
              "        await google.colab.output.renderOutput(dataTable, element);\n",
              "        const docLink = document.createElement('div');\n",
              "        docLink.innerHTML = docLinkHtml;\n",
              "        element.appendChild(docLink);\n",
              "      }\n",
              "    </script>\n",
              "  </div>\n",
              "\n",
              "\n",
              "<div id=\"df-faffc72e-b701-43d3-a61a-80e7813a45c2\">\n",
              "  <button class=\"colab-df-quickchart\" onclick=\"quickchart('df-faffc72e-b701-43d3-a61a-80e7813a45c2')\"\n",
              "            title=\"Suggest charts.\"\n",
              "            style=\"display:none;\">\n",
              "\n",
              "<svg xmlns=\"http://www.w3.org/2000/svg\" height=\"24px\"viewBox=\"0 0 24 24\"\n",
              "     width=\"24px\">\n",
              "    <g>\n",
              "        <path d=\"M19 3H5c-1.1 0-2 .9-2 2v14c0 1.1.9 2 2 2h14c1.1 0 2-.9 2-2V5c0-1.1-.9-2-2-2zM9 17H7v-7h2v7zm4 0h-2V7h2v10zm4 0h-2v-4h2v4z\"/>\n",
              "    </g>\n",
              "</svg>\n",
              "  </button>\n",
              "\n",
              "<style>\n",
              "  .colab-df-quickchart {\n",
              "    background-color: #E8F0FE;\n",
              "    border: none;\n",
              "    border-radius: 50%;\n",
              "    cursor: pointer;\n",
              "    display: none;\n",
              "    fill: #1967D2;\n",
              "    height: 32px;\n",
              "    padding: 0 0 0 0;\n",
              "    width: 32px;\n",
              "  }\n",
              "\n",
              "  .colab-df-quickchart:hover {\n",
              "    background-color: #E2EBFA;\n",
              "    box-shadow: 0px 1px 2px rgba(60, 64, 67, 0.3), 0px 1px 3px 1px rgba(60, 64, 67, 0.15);\n",
              "    fill: #174EA6;\n",
              "  }\n",
              "\n",
              "  [theme=dark] .colab-df-quickchart {\n",
              "    background-color: #3B4455;\n",
              "    fill: #D2E3FC;\n",
              "  }\n",
              "\n",
              "  [theme=dark] .colab-df-quickchart:hover {\n",
              "    background-color: #434B5C;\n",
              "    box-shadow: 0px 1px 3px 1px rgba(0, 0, 0, 0.15);\n",
              "    filter: drop-shadow(0px 1px 2px rgba(0, 0, 0, 0.3));\n",
              "    fill: #FFFFFF;\n",
              "  }\n",
              "</style>\n",
              "\n",
              "  <script>\n",
              "    async function quickchart(key) {\n",
              "      const charts = await google.colab.kernel.invokeFunction(\n",
              "          'suggestCharts', [key], {});\n",
              "    }\n",
              "    (() => {\n",
              "      let quickchartButtonEl =\n",
              "        document.querySelector('#df-faffc72e-b701-43d3-a61a-80e7813a45c2 button');\n",
              "      quickchartButtonEl.style.display =\n",
              "        google.colab.kernel.accessAllowed ? 'block' : 'none';\n",
              "    })();\n",
              "  </script>\n",
              "</div>\n",
              "    </div>\n",
              "  </div>\n"
            ]
          },
          "metadata": {},
          "execution_count": 4
        }
      ]
    },
    {
      "cell_type": "markdown",
      "source": [
        "Agora, vamos prosseguir para o passo 2 e calcular o retorno médio diário para cada ativo."
      ],
      "metadata": {
        "id": "PuvIut2aXX8Q"
      }
    },
    {
      "cell_type": "code",
      "source": [
        "# Calcular o retorno médio diário de cada ativo\n",
        "mean_daily_returns = df[['A', 'B', 'C', 'D', 'E']].mean()\n",
        "\n",
        "# Exibir os resultados\n",
        "mean_daily_returns\n"
      ],
      "metadata": {
        "colab": {
          "base_uri": "https://localhost:8080/"
        },
        "id": "6d0QiTh5XVAq",
        "outputId": "d41f03f3-a561-4403-e3e5-eef2a109b898"
      },
      "execution_count": null,
      "outputs": [
        {
          "output_type": "execute_result",
          "data": {
            "text/plain": [
              "A    0.000549\n",
              "B    0.000525\n",
              "C    0.000615\n",
              "D    0.000735\n",
              "E    0.001114\n",
              "dtype: float64"
            ]
          },
          "metadata": {},
          "execution_count": 5
        }
      ]
    },
    {
      "cell_type": "markdown",
      "source": [
        "Agora, vamos seguir para o passo 3 e calcular a volatilidade diária de cada ativo.\n",
        "\n"
      ],
      "metadata": {
        "id": "cRteRemHXfaD"
      }
    },
    {
      "cell_type": "code",
      "source": [
        "# Calcular a volatilidade diária de cada ativo\n",
        "daily_volatility = df[['A', 'B', 'C', 'D', 'E']].std()\n",
        "\n",
        "# Exibir os resultados\n",
        "daily_volatility\n"
      ],
      "metadata": {
        "colab": {
          "base_uri": "https://localhost:8080/"
        },
        "id": "PUcyZYuHXfis",
        "outputId": "c62b9b16-04b3-42ee-a929-3f63879a514f"
      },
      "execution_count": null,
      "outputs": [
        {
          "output_type": "execute_result",
          "data": {
            "text/plain": [
              "A    0.016445\n",
              "B    0.019664\n",
              "C    0.029174\n",
              "D    0.026153\n",
              "E    0.020150\n",
              "dtype: float64"
            ]
          },
          "metadata": {},
          "execution_count": 6
        }
      ]
    },
    {
      "cell_type": "markdown",
      "source": [
        "Para o passo 4, vamos assumir uma alocação de igual peso para cada ativo na carteira. Isso significa que cada ativo terá um peso de 1/5 ou 20%.\n",
        "\n",
        "Agora, podemos prosseguir para o passo 5 e calcular o retorno anualizado da carteira. A fórmula para o retorno anualizado é:\n",
        "Retorno Anualizado=(1+Retorno médio diário)^252−1\n",
        "\n",
        "Onde 252 é o número médio de dias de negociação em um ano no mercado de ações brasileiro."
      ],
      "metadata": {
        "id": "36X9AbSrXqbo"
      }
    },
    {
      "cell_type": "code",
      "source": [
        "# Número de dias de negociação em um ano no mercado de ações brasileiro\n",
        "trading_days = 252\n",
        "\n",
        "# Alocação de igual peso para cada ativo na carteira (20% para cada ativo)\n",
        "weights = [0.2, 0.2, 0.2, 0.2, 0.2]\n",
        "\n",
        "# Calcular o retorno anualizado da carteira\n",
        "portfolio_return_annualized = ((1 + mean_daily_returns).prod()) ** trading_days - 1\n",
        "\n",
        "# Ajustar pelo peso dos ativos na carteira\n",
        "portfolio_return_annualized_weighted = (weights * mean_daily_returns).sum() * trading_days\n",
        "\n",
        "# Exibir o retorno anualizado da carteira\n",
        "portfolio_return_annualized, portfolio_return_annualized_weighted\n"
      ],
      "metadata": {
        "colab": {
          "base_uri": "https://localhost:8080/"
        },
        "id": "UGnlwKOZW8AA",
        "outputId": "bfe4b38e-ce61-4c8d-a81c-6845429dfa8e"
      },
      "execution_count": null,
      "outputs": [
        {
          "output_type": "execute_result",
          "data": {
            "text/plain": [
              "(1.438037815973225, 0.17830761299841813)"
            ]
          },
          "metadata": {},
          "execution_count": 7
        }
      ]
    },
    {
      "cell_type": "markdown",
      "source": [
        "O retorno anualizado para a carteira com alocação de igual peso (20% em cada ativo) é de aproximadamente 17.83%\n"
      ],
      "metadata": {
        "id": "-RzyBBDgYM8A"
      }
    },
    {
      "cell_type": "code",
      "source": [],
      "metadata": {
        "id": "DToNcmtoBfqN"
      },
      "execution_count": null,
      "outputs": []
    },
    {
      "cell_type": "markdown",
      "source": [
        "Agora, vamos prosseguir para o passo 6 e calcular a volatilidade anualizada da carteira.\n",
        "A fórmula para a volatilidade anualizada é:\n",
        "\n",
        "Volatilidade Anualizada = Volatilidade Diaria × √252."
      ],
      "metadata": {
        "id": "Te2BuvSJYRXJ"
      }
    },
    {
      "cell_type": "code",
      "source": [
        "import numpy as np\n",
        "\n",
        "# Calcular a matriz de covariância dos retornos diários\n",
        "cov_matrix = df[['A', 'B', 'C', 'D', 'E']].cov()\n",
        "\n",
        "# Calcular a volatilidade anualizada da carteira\n",
        "portfolio_volatility_annualized = np.sqrt(np.dot(weights, np.dot(cov_matrix, weights)) * trading_days)\n",
        "\n",
        "# Exibir a volatilidade anualizada da carteira\n",
        "portfolio_volatility_annualized\n"
      ],
      "metadata": {
        "colab": {
          "base_uri": "https://localhost:8080/"
        },
        "id": "2vqc0s7gYd9Q",
        "outputId": "f4144346-b5bb-441f-f0a4-d30044d531c2"
      },
      "execution_count": null,
      "outputs": [
        {
          "output_type": "execute_result",
          "data": {
            "text/plain": [
              "0.25084450061891794"
            ]
          },
          "metadata": {},
          "execution_count": 8
        }
      ]
    },
    {
      "cell_type": "markdown",
      "source": [
        "A volatilidade anualizada da carteira com alocação de igual peso é de aproximadamente 25.08%\n"
      ],
      "metadata": {
        "id": "ukJxC134YghJ"
      }
    },
    {
      "cell_type": "markdown",
      "source": [
        "Para o passo 7, vamos calcular o índice de Sharpe da carteira. O índice de Sharpe é calculado usando a seguinte fórmula:\n",
        "\n",
        "índice de Sharpe = (Retorno anualizado da carteira - Taxa livre de risco) / Retorno anualizado da carteira\n",
        "\n",
        "\n",
        "A taxa do CDI atual é de 13,15% a.a., que usaremos como taxa do ativo livre de risco. Vamos calcular o índice de Sharpe."
      ],
      "metadata": {
        "id": "A1_8eS4tZLEr"
      }
    },
    {
      "cell_type": "code",
      "source": [
        "# Taxa do CDI atual como ativo livre de risco (13,15% a.a.)\n",
        "risk_free_rate = 0.1315\n",
        "\n",
        "# Calcular o índice de Sharpe da carteira\n",
        "sharpe_ratio = (portfolio_return_annualized_weighted - risk_free_rate) / portfolio_volatility_annualized\n",
        "\n",
        "# Exibir o índice de Sharpe da carteira\n",
        "sharpe_ratio\n"
      ],
      "metadata": {
        "colab": {
          "base_uri": "https://localhost:8080/"
        },
        "id": "WBlg_MKfZiOK",
        "outputId": "14fedf4e-c2bc-460b-d9fd-a55c6fc485c2"
      },
      "execution_count": null,
      "outputs": [
        {
          "output_type": "execute_result",
          "data": {
            "text/plain": [
              "0.18660011633871967"
            ]
          },
          "metadata": {},
          "execution_count": 9
        }
      ]
    },
    {
      "cell_type": "markdown",
      "source": [
        "O índice de Sharpe da carteira com alocação de igual peso é de aproximadamente 0.187\n",
        "\n",
        "\n",
        "Finalmente, para o passo 8, vamos calcular o Máximo Drawdown da carteira. O Máximo Drawdown é a maior queda que a carteira poderia enfrentar, e é uma medida de risco. Ele é calculado identificando o pico e o vale na série de retornos acumulados e então determinando a diferença percentual entre eles.\n",
        "\n",
        "Vamos calcular o Máximo Drawdown."
      ],
      "metadata": {
        "id": "_A5C1lAEZkMI"
      }
    },
    {
      "cell_type": "code",
      "source": [
        "# Calcular o retorno diário da carteira com alocação de igual peso\n",
        "df['Portfolio_Daily_Return'] = df[['A', 'B', 'C', 'D', 'E']].apply(lambda x: np.dot(x, weights), axis=1)\n",
        "\n",
        "# Calcular o retorno acumulado da carteira\n",
        "df['Portfolio_Cumulative_Return'] = (1 + df['Portfolio_Daily_Return']).cumprod()\n",
        "\n",
        "# Encontrar o pico e o vale na série de retorno acumulado para calcular o Máximo Drawdown\n",
        "peak, trough = df['Portfolio_Cumulative_Return'].max(), df['Portfolio_Cumulative_Return'].min()\n",
        "\n",
        "# Calcular o Máximo Drawdown\n",
        "max_drawdown = (trough - peak) / peak\n",
        "\n",
        "# Exibir o Máximo Drawdown\n",
        "max_drawdown\n"
      ],
      "metadata": {
        "colab": {
          "base_uri": "https://localhost:8080/"
        },
        "id": "Aov2CCf-ZoiC",
        "outputId": "c445a143-492e-450b-e042-6a4627c98acd"
      },
      "execution_count": null,
      "outputs": [
        {
          "output_type": "execute_result",
          "data": {
            "text/plain": [
              "-0.8786230023417837"
            ]
          },
          "metadata": {},
          "execution_count": 10
        }
      ]
    },
    {
      "cell_type": "markdown",
      "source": [
        "O Máximo Drawdown da carteira é de aproximadamente uma redução de 87.86%. Note que o valor é negativo porque representa uma queda em relação ao pico.\n",
        "\n",
        "Em resumo, para uma carteira com alocação de igual peso nos cinco ativos, temos:\n",
        "Retorno Anualizado: 17.83\n",
        "Volatilidade Anualizada: 25.08\n",
        "Índice de Sharpe: 0.187\n",
        "Máximo Drawdown: − 87.86\n"
      ],
      "metadata": {
        "id": "snYOpiB0ZtX4"
      }
    },
    {
      "cell_type": "markdown",
      "source": [
        "**Problema 2**"
      ],
      "metadata": {
        "id": "kL4Bd_HYZ2Sw"
      }
    },
    {
      "cell_type": "markdown",
      "source": [
        "Para resolver o Problema 2, seguiremos os seguintes passos:\n",
        "\n",
        "1-Utilizar otimização de portfólio para encontrar a combinação de pesos que maximiza o índice de Sharpe, com a restrição de que todos os pesos devem ser não negativos.\n",
        "2-Calcular o retorno anualizado, a volatilidade anualizada e o índice de Sharpe para a nova estratégia de portfólio.\n",
        "3-Calcular o máximo Drawdown para a nova estratégia de portfólio.\n",
        "4-Criar um gráfico comparativo do retorno acumulado entre a nova estratégia e a carteira equally weighted.\n",
        "\n",
        "Vamos começar com o passo 1 e encontrar a combinação de pesos que maximiza o índice de Sharpe."
      ],
      "metadata": {
        "id": "5VI36p2PaG_o"
      }
    },
    {
      "cell_type": "code",
      "source": [
        "from scipy.optimize import minimize\n",
        "\n",
        "# Função para calcular o índice de Sharpe negativo (já que queremos maximizá-lo)\n",
        "def negative_sharpe(weights, mean_returns, cov_matrix, risk_free_rate, trading_days):\n",
        "    portfolio_return = np.dot(weights, mean_daily_returns) * trading_days\n",
        "    portfolio_volatility = np.sqrt(np.dot(weights.T, np.dot(cov_matrix, weights)) * trading_days)\n",
        "    return -((portfolio_return - risk_free_rate) / portfolio_volatility)\n",
        "\n",
        "# Restrições e limites para a otimização\n",
        "constraints = ({'type': 'eq', 'fun': lambda weights: np.sum(weights) - 1})  # Os pesos devem somar 1\n",
        "bounds = tuple((0, 1) for asset in range(len(mean_daily_returns)))  # Os pesos devem ser não negativos e menores ou iguais a 1\n",
        "\n",
        "# Chute inicial (alocação igual para começar a otimização)\n",
        "initial_weights = [0.2, 0.2, 0.2, 0.2, 0.2]\n",
        "\n",
        "# Executar a otimização para maximizar o índice de Sharpe\n",
        "solution = minimize(negative_sharpe, initial_weights, args=(mean_daily_returns, cov_matrix, risk_free_rate, trading_days),\n",
        "                    method='SLSQP', bounds=bounds, constraints=constraints)\n",
        "\n",
        "# Extrair os pesos otimizados\n",
        "optimized_weights = solution.x\n",
        "\n",
        "# Exibir os pesos otimizados\n",
        "optimized_weights\n"
      ],
      "metadata": {
        "colab": {
          "base_uri": "https://localhost:8080/"
        },
        "id": "_UuAgVS3Z404",
        "outputId": "a0e28f61-f67d-4ce2-de5e-e57aac256fc0"
      },
      "execution_count": null,
      "outputs": [
        {
          "output_type": "execute_result",
          "data": {
            "text/plain": [
              "array([0.00000000e+00, 1.92262826e-17, 8.70362848e-18, 4.18862547e-02,\n",
              "       9.58113745e-01])"
            ]
          },
          "metadata": {},
          "execution_count": 11
        }
      ]
    },
    {
      "cell_type": "markdown",
      "source": [
        "Os pesos otimizados para maximizar o índice de Sharpe da carteira, considerando a restrição de que todos os pesos devem ser não-negativos, são aproximadamente:\n",
        "Ativo A: 0.00 %\n",
        "Ativo B: 0.00 %\n",
        "Ativo C: 0.00 %\n",
        "Ativo D: 4.19 %\n",
        "Ativo E: 95.81 %\n",
        "   \n",
        "Esses pesos sugerem uma alocação quase inteiramente no Ativo E, com uma pequena porção no Ativo D. Agora, vamos avançar para o passo 2 e calcular o retorno anualizado, a volatilidade anualizada e o índice de Sharpe para esta nova estratégia de portfólio."
      ],
      "metadata": {
        "id": "oYQA69ujcuGA"
      }
    },
    {
      "cell_type": "code",
      "source": [
        "# Calcular o retorno anualizado da carteira otimizada\n",
        "portfolio_return_annualized_optimized = (optimized_weights * mean_daily_returns).sum() * trading_days\n",
        "\n",
        "# Calcular a volatilidade anualizada da carteira otimizada\n",
        "portfolio_volatility_annualized_optimized = np.sqrt(np.dot(optimized_weights, np.dot(cov_matrix, optimized_weights)) * trading_days)\n",
        "\n",
        "# Calcular o índice de Sharpe da carteira otimizada\n",
        "sharpe_ratio_optimized = (portfolio_return_annualized_optimized - risk_free_rate) / portfolio_volatility_annualized_optimized\n",
        "\n",
        "# Exibir os resultados\n",
        "portfolio_return_annualized_optimized, portfolio_volatility_annualized_optimized, sharpe_ratio_optimized\n"
      ],
      "metadata": {
        "colab": {
          "base_uri": "https://localhost:8080/"
        },
        "id": "0lUbbPYDc20Y",
        "outputId": "750f981d-5c5a-445a-9456-1992ecf11b51"
      },
      "execution_count": null,
      "outputs": [
        {
          "output_type": "execute_result",
          "data": {
            "text/plain": [
              "(0.27666904006973964, 0.31082293775394915, 0.46704738433640647)"
            ]
          },
          "metadata": {},
          "execution_count": 12
        }
      ]
    },
    {
      "cell_type": "markdown",
      "source": [
        "Para a carteira otimizada, temos os seguintes indicadores:\n",
        "\n",
        "Retorno Anualizado: 27.67 %\n",
        "Volatilidade Anualizada: 31.08 % 3\n",
        "Índice de Sharpe: 0.467\n",
        "\n",
        "Notamos que o índice de Sharpe da carteira otimizada ( 0.467) é significativamente maior que o da carteira equally weighted ( 0.187), indicando uma melhor relação risco-retorno. Agora, para o passo 3, vamos calcular o Máximo Drawdown para esta nova estratégia de portfólio."
      ],
      "metadata": {
        "id": "2Sd82LBZc5JA"
      }
    },
    {
      "cell_type": "code",
      "source": [
        "# Calcular o retorno diário da carteira otimizada\n",
        "df['Portfolio_Daily_Return_Optimized'] = df[['A', 'B', 'C', 'D', 'E']].apply(lambda x: np.dot(x, optimized_weights), axis=1)\n",
        "\n",
        "# Calcular o retorno acumulado da carteira otimizada\n",
        "df['Portfolio_Cumulative_Return_Optimized'] = (1 + df['Portfolio_Daily_Return_Optimized']).cumprod()\n",
        "\n",
        "# Encontrar o pico e o vale na série de retorno acumulado otimizado para calcular o Máximo Drawdown\n",
        "peak_optimized, trough_optimized = df['Portfolio_Cumulative_Return_Optimized'].max(), df['Portfolio_Cumulative_Return_Optimized'].min()\n",
        "\n",
        "# Calcular o Máximo Drawdown para a carteira otimizada\n",
        "max_drawdown_optimized = (trough_optimized - peak_optimized) / peak_optimized\n",
        "\n",
        "# Exibir o Máximo Drawdown para a carteira otimizada\n",
        "max_drawdown_optimized\n"
      ],
      "metadata": {
        "colab": {
          "base_uri": "https://localhost:8080/"
        },
        "id": "OMUFiZfVdGMH",
        "outputId": "38873b68-576c-41a0-b7f7-f36dcaf4ef86"
      },
      "execution_count": null,
      "outputs": [
        {
          "output_type": "execute_result",
          "data": {
            "text/plain": [
              "-0.9588414008586612"
            ]
          },
          "metadata": {},
          "execution_count": 13
        }
      ]
    },
    {
      "cell_type": "markdown",
      "source": [
        "O Máximo Drawdown para a carteira otimizada é de aproximadamente uma redução de 95.88%. Isso sugere um perfil de risco elevado, apesar do aumento no índice de Sharpe. Finalmente, para o passo 4, vamos criar um gráfico comparativo do retorno acumulado entre a nova estratégia e a carteira equally weighted."
      ],
      "metadata": {
        "id": "x9wKp-DddDFY"
      }
    },
    {
      "cell_type": "code",
      "source": [
        "import matplotlib.pyplot as plt\n",
        "\n",
        "# Configurar o gráfico\n",
        "plt.figure(figsize=(14, 7))\n",
        "\n",
        "# Plotar o retorno acumulado para a carteira equally weighted e a carteira otimizada\n",
        "plt.plot(df['Portfolio_Cumulative_Return'], label='Equally Weighted Portfolio')\n",
        "plt.plot(df['Portfolio_Cumulative_Return_Optimized'], label='Optimized Portfolio')\n",
        "\n",
        "# Configurações adicionais\n",
        "plt.title('Comparative Cumulative Returns')\n",
        "plt.xlabel('Days')\n",
        "plt.ylabel('Cumulative Return')\n",
        "plt.legend()\n",
        "plt.grid(True)\n",
        "\n",
        "# Exibir o gráfico\n",
        "plt.show()\n"
      ],
      "metadata": {
        "colab": {
          "base_uri": "https://localhost:8080/",
          "height": 641
        },
        "id": "p_mMRgvSdOcQ",
        "outputId": "56c364d8-d869-4102-c6c6-275041bb0329"
      },
      "execution_count": null,
      "outputs": [
        {
          "output_type": "display_data",
          "data": {
            "text/plain": [
              "<Figure size 1400x700 with 1 Axes>"
            ],
            "image/png": "[encoded data removed]"
          },
          "metadata": {}
        }
      ]
    },
    {
      "cell_type": "markdown",
      "source": [
        "O gráfico acima mostra a comparação do retorno acumulado entre a carteira com alocação de igual peso (\"Equally Weighted Portfolio\") e a carteira otimizada para maximizar o índice de Sharpe (\"Optimized Portfolio\"), tendo um maior retorno, apesar do risco mais elevado.\n",
        "\n"
      ],
      "metadata": {
        "id": "UTewISpUdVBY"
      }
    },
    {
      "cell_type": "markdown",
      "source": [
        "Resumindo, para a carteira otimizada, temos:\n",
        "\n",
        "Retorno Anualizado: 27.67 %\n",
        "\n",
        "Volatilidade Anualizada: 31.08 %\n",
        "Índice de Sharpe: 0.467\n",
        "Máximo Drawdown: − 95.88\n",
        "\n",
        "E para a carteira com alocação de igual peso:\n",
        "\n",
        "Retorno Anualizado: 17.83\n",
        "Volatilidade Anualizada: 25.08\n",
        "Índice de Sharpe: 0.187\n",
        "Máximo Drawdown: − 87.86\n",
        "\n",
        "A carteira otimizada tem um índice de Sharpe superior, mas também um Máximo Drawdown maior, o que indica um perfil de risco mais elevado."
      ],
      "metadata": {
        "id": "qP5r9HuadbCo"
      }
    },
    {
      "cell_type": "markdown",
      "source": [
        "**Problema 3**"
      ],
      "metadata": {
        "id": "CyBv5FAhdrER"
      }
    },
    {
      "cell_type": "markdown",
      "source": [
        "Para resolver o Problema 3, seguiremos os seguintes passos:\n",
        "\n",
        "1-Agrupar os dados por mês e calcular o retorno acumulado de cada ação para cada mês.\n",
        "2-Identificar a ação com o maior retorno em cada mês e registrar essa escolha. 3-Simular a estratégia de manter a ação escolhida em carteira até o final do mês seguinte.\n",
        "4-Calcular o retorno acumulado dessa estratégia ao longo do tempo.\n",
        "5-Criar um gráfico comparativo de retorno acumulado entre essa estratégia e a carteira equally weighted.\n",
        "6-Avaliar se a estratégia é melhor ou pior que o cenário-base usando métricas relevantes (como o índice de Sharpe e o Máximo Drawdown).\n",
        "\n",
        "Vamos começar com o passo 1 e calcular o retorno acumulado de cada ação para cada mês."
      ],
      "metadata": {
        "id": "_LOPDuL6fWAg"
      }
    },
    {
      "cell_type": "code",
      "source": [
        "# Criar uma coluna para identificar o mês e o ano\n",
        "df['YearMonth'] = df['year'].astype(str) + '-' + df['month'].astype(str).str.zfill(2)\n",
        "\n",
        "# Calcular o retorno acumulado de cada ação para cada mês\n",
        "monthly_cumulative_returns = df.groupby('YearMonth')[['A', 'B', 'C', 'D', 'E']].apply(lambda x: (1 + x).cumprod().iloc[-1] - 1)\n",
        "\n",
        "# Exibir as primeiras linhas do DataFrame de retorno acumulado mensal\n",
        "monthly_cumulative_returns.head()\n"
      ],
      "metadata": {
        "colab": {
          "base_uri": "https://localhost:8080/",
          "height": 238
        },
        "id": "82uTAc5xds03",
        "outputId": "4c8a629b-486d-4c3f-caec-d541fab6b919"
      },
      "execution_count": null,
      "outputs": [
        {
          "output_type": "execute_result",
          "data": {
            "text/plain": [
              "                  A         B         C         D         E\n",
              "YearMonth                                                  \n",
              "2010-01   -0.019608 -0.099452 -0.084405 -0.050107 -0.015276\n",
              "2010-02   -0.005800  0.021071  0.012877  0.031486 -0.010392\n",
              "2010-03   -0.064622  0.068845  0.022537  0.132805  0.078910\n",
              "2010-04    0.065855 -0.033036 -0.066199 -0.064274 -0.065789\n",
              "2010-05    0.001223 -0.079283 -0.090969 -0.058380 -0.042254"
            ],
            "text/html": [
              "\n",
              "  <div id=\"df-6087019e-76fa-42df-97cf-206b330c2555\" class=\"colab-df-container\">\n",
              "    <div>\n",
              "<style scoped>\n",
              "    .dataframe tbody tr th:only-of-type {\n",
              "        vertical-align: middle;\n",
              "    }\n",
              "\n",
              "    .dataframe tbody tr th {\n",
              "        vertical-align: top;\n",
              "    }\n",
              "\n",
              "    .dataframe thead th {\n",
              "        text-align: right;\n",
              "    }\n",
              "</style>\n",
              "<table border=\"1\" class=\"dataframe\">\n",
              "  <thead>\n",
              "    <tr style=\"text-align: right;\">\n",
              "      <th></th>\n",
              "      <th>A</th>\n",
              "      <th>B</th>\n",
              "      <th>C</th>\n",
              "      <th>D</th>\n",
              "      <th>E</th>\n",
              "    </tr>\n",
              "    <tr>\n",
              "      <th>YearMonth</th>\n",
              "      <th></th>\n",
              "      <th></th>\n",
              "      <th></th>\n",
              "      <th></th>\n",
              "      <th></th>\n",
              "    </tr>\n",
              "  </thead>\n",
              "  <tbody>\n",
              "    <tr>\n",
              "      <th>2010-01</th>\n",
              "      <td>-0.019608</td>\n",
              "      <td>-0.099452</td>\n",
              "      <td>-0.084405</td>\n",
              "      <td>-0.050107</td>\n",
              "      <td>-0.015276</td>\n",
              "    </tr>\n",
              "    <tr>\n",
              "      <th>2010-02</th>\n",
              "      <td>-0.005800</td>\n",
              "      <td>0.021071</td>\n",
              "      <td>0.012877</td>\n",
              "      <td>0.031486</td>\n",
              "      <td>-0.010392</td>\n",
              "    </tr>\n",
              "    <tr>\n",
              "      <th>2010-03</th>\n",
              "      <td>-0.064622</td>\n",
              "      <td>0.068845</td>\n",
              "      <td>0.022537</td>\n",
              "      <td>0.132805</td>\n",
              "      <td>0.078910</td>\n",
              "    </tr>\n",
              "    <tr>\n",
              "      <th>2010-04</th>\n",
              "      <td>0.065855</td>\n",
              "      <td>-0.033036</td>\n",
              "      <td>-0.066199</td>\n",
              "      <td>-0.064274</td>\n",
              "      <td>-0.065789</td>\n",
              "    </tr>\n",
              "    <tr>\n",
              "      <th>2010-05</th>\n",
              "      <td>0.001223</td>\n",
              "      <td>-0.079283</td>\n",
              "      <td>-0.090969</td>\n",
              "      <td>-0.058380</td>\n",
              "      <td>-0.042254</td>\n",
              "    </tr>\n",
              "  </tbody>\n",
              "</table>\n",
              "</div>\n",
              "    <div class=\"colab-df-buttons\">\n",
              "\n",
              "  <div class=\"colab-df-container\">\n",
              "    <button class=\"colab-df-convert\" onclick=\"convertToInteractive('df-6087019e-76fa-42df-97cf-206b330c2555')\"\n",
              "            title=\"Convert this dataframe to an interactive table.\"\n",
              "            style=\"display:none;\">\n",
              "\n",
              "  <svg xmlns=\"http://www.w3.org/2000/svg\" height=\"24px\" viewBox=\"0 -960 960 960\">\n",
              "    <path d=\"M120-120v-720h720v720H120Zm60-500h600v-160H180v160Zm220 220h160v-160H400v160Zm0 220h160v-160H400v160ZM180-400h160v-160H180v160Zm440 0h160v-160H620v160ZM180-180h160v-160H180v160Zm440 0h160v-160H620v160Z\"/>\n",
              "  </svg>\n",
              "    </button>\n",
              "\n",
              "  <style>\n",
              "    .colab-df-container {\n",
              "      display:flex;\n",
              "      gap: 12px;\n",
              "    }\n",
              "\n",
              "    .colab-df-convert {\n",
              "      background-color: #E8F0FE;\n",
              "      border: none;\n",
              "      border-radius: 50%;\n",
              "      cursor: pointer;\n",
              "      display: none;\n",
              "      fill: #1967D2;\n",
              "      height: 32px;\n",
              "      padding: 0 0 0 0;\n",
              "      width: 32px;\n",
              "    }\n",
              "\n",
              "    .colab-df-convert:hover {\n",
              "      background-color: #E2EBFA;\n",
              "      box-shadow: 0px 1px 2px rgba(60, 64, 67, 0.3), 0px 1px 3px 1px rgba(60, 64, 67, 0.15);\n",
              "      fill: #174EA6;\n",
              "    }\n",
              "\n",
              "    .colab-df-buttons div {\n",
              "      margin-bottom: 4px;\n",
              "    }\n",
              "\n",
              "    [theme=dark] .colab-df-convert {\n",
              "      background-color: #3B4455;\n",
              "      fill: #D2E3FC;\n",
              "    }\n",
              "\n",
              "    [theme=dark] .colab-df-convert:hover {\n",
              "      background-color: #434B5C;\n",
              "      box-shadow: 0px 1px 3px 1px rgba(0, 0, 0, 0.15);\n",
              "      filter: drop-shadow(0px 1px 2px rgba(0, 0, 0, 0.3));\n",
              "      fill: #FFFFFF;\n",
              "    }\n",
              "  </style>\n",
              "\n",
              "    <script>\n",
              "      const buttonEl =\n",
              "        document.querySelector('#df-6087019e-76fa-42df-97cf-206b330c2555 button.colab-df-convert');\n",
              "      buttonEl.style.display =\n",
              "        google.colab.kernel.accessAllowed ? 'block' : 'none';\n",
              "\n",
              "      async function convertToInteractive(key) {\n",
              "        const element = document.querySelector('#df-6087019e-76fa-42df-97cf-206b330c2555');\n",
              "        const dataTable =\n",
              "          await google.colab.kernel.invokeFunction('convertToInteractive',\n",
              "                                                    [key], {});\n",
              "        if (!dataTable) return;\n",
              "\n",
              "        const docLinkHtml = 'Like what you see? Visit the ' +\n",
              "          '<a target=\"_blank\" href=https://colab.research.google.com/notebooks/data_table.ipynb>data table notebook</a>'\n",
              "          + ' to learn more about interactive tables.';\n",
              "        element.innerHTML = '';\n",
              "        dataTable['output_type'] = 'display_data';\n",
              "        await google.colab.output.renderOutput(dataTable, element);\n",
              "        const docLink = document.createElement('div');\n",
              "        docLink.innerHTML = docLinkHtml;\n",
              "        element.appendChild(docLink);\n",
              "      }\n",
              "    </script>\n",
              "  </div>\n",
              "\n",
              "\n",
              "<div id=\"df-213f9a65-fa51-4527-aef7-79faae2eea22\">\n",
              "  <button class=\"colab-df-quickchart\" onclick=\"quickchart('df-213f9a65-fa51-4527-aef7-79faae2eea22')\"\n",
              "            title=\"Suggest charts.\"\n",
              "            style=\"display:none;\">\n",
              "\n",
              "<svg xmlns=\"http://www.w3.org/2000/svg\" height=\"24px\"viewBox=\"0 0 24 24\"\n",
              "     width=\"24px\">\n",
              "    <g>\n",
              "        <path d=\"M19 3H5c-1.1 0-2 .9-2 2v14c0 1.1.9 2 2 2h14c1.1 0 2-.9 2-2V5c0-1.1-.9-2-2-2zM9 17H7v-7h2v7zm4 0h-2V7h2v10zm4 0h-2v-4h2v4z\"/>\n",
              "    </g>\n",
              "</svg>\n",
              "  </button>\n",
              "\n",
              "<style>\n",
              "  .colab-df-quickchart {\n",
              "    background-color: #E8F0FE;\n",
              "    border: none;\n",
              "    border-radius: 50%;\n",
              "    cursor: pointer;\n",
              "    display: none;\n",
              "    fill: #1967D2;\n",
              "    height: 32px;\n",
              "    padding: 0 0 0 0;\n",
              "    width: 32px;\n",
              "  }\n",
              "\n",
              "  .colab-df-quickchart:hover {\n",
              "    background-color: #E2EBFA;\n",
              "    box-shadow: 0px 1px 2px rgba(60, 64, 67, 0.3), 0px 1px 3px 1px rgba(60, 64, 67, 0.15);\n",
              "    fill: #174EA6;\n",
              "  }\n",
              "\n",
              "  [theme=dark] .colab-df-quickchart {\n",
              "    background-color: #3B4455;\n",
              "    fill: #D2E3FC;\n",
              "  }\n",
              "\n",
              "  [theme=dark] .colab-df-quickchart:hover {\n",
              "    background-color: #434B5C;\n",
              "    box-shadow: 0px 1px 3px 1px rgba(0, 0, 0, 0.15);\n",
              "    filter: drop-shadow(0px 1px 2px rgba(0, 0, 0, 0.3));\n",
              "    fill: #FFFFFF;\n",
              "  }\n",
              "</style>\n",
              "\n",
              "  <script>\n",
              "    async function quickchart(key) {\n",
              "      const charts = await google.colab.kernel.invokeFunction(\n",
              "          'suggestCharts', [key], {});\n",
              "    }\n",
              "    (() => {\n",
              "      let quickchartButtonEl =\n",
              "        document.querySelector('#df-213f9a65-fa51-4527-aef7-79faae2eea22 button');\n",
              "      quickchartButtonEl.style.display =\n",
              "        google.colab.kernel.accessAllowed ? 'block' : 'none';\n",
              "    })();\n",
              "  </script>\n",
              "</div>\n",
              "    </div>\n",
              "  </div>\n"
            ]
          },
          "metadata": {},
          "execution_count": 15
        }
      ]
    },
    {
      "cell_type": "markdown",
      "source": [
        "O DataFrame monthly_cumulative_returns mostra o retorno acumulado de cada ação ao final de cada mês, começando em janeiro de 2010. Agora, vamos para o passo 2 e identificar a ação com o maior retorno em cada mês. Vamos registrar essa escolha para que possamos simular a estratégia no passo 3."
      ],
      "metadata": {
        "id": "w-87m4NFflKJ"
      }
    },
    {
      "cell_type": "code",
      "source": [
        "# Identificar a ação com o maior retorno em cada mês\n",
        "best_performing_stock = monthly_cumulative_returns.idxmax(axis=1)\n",
        "\n",
        "# Exibir as primeiras escolhas de ações com melhor desempenho\n",
        "best_performing_stock.head()\n"
      ],
      "metadata": {
        "colab": {
          "base_uri": "https://localhost:8080/"
        },
        "id": "VJ9YVfCbfsII",
        "outputId": "ea084dcc-d999-479f-a6aa-04b4503dadbc"
      },
      "execution_count": null,
      "outputs": [
        {
          "output_type": "execute_result",
          "data": {
            "text/plain": [
              "YearMonth\n",
              "2010-01    E\n",
              "2010-02    D\n",
              "2010-03    D\n",
              "2010-04    A\n",
              "2010-05    A\n",
              "dtype: object"
            ]
          },
          "metadata": {},
          "execution_count": 16
        }
      ]
    },
    {
      "cell_type": "markdown",
      "source": [
        "O DataFrame best_performing_stock mostra a ação com o melhor desempenho ao final de cada mês. Por exemplo, em janeiro de 2010, a ação \"E\" teve o melhor desempenho, enquanto em fevereiro e março de 2010, a ação \"D\" teve o melhor desempenho. Agora, vamos para o passo 3 e simular a estratégia de manter a ação escolhida em carteira até o final do mês seguinte. Para isso, vamos calcular o retorno acumulado dessa estratégia ao longo do tempo."
      ],
      "metadata": {
        "id": "VRtWcYEWftTA"
      }
    },
    {
      "cell_type": "code",
      "source": [
        "# Inicializar uma coluna para o retorno diário da estratégia\n",
        "df['Strategy_Daily_Return'] = 0.0\n",
        "\n",
        "# Loop para preencher os retornos diários com base na estratégia\n",
        "for year_month, stock in best_performing_stock.items():\n",
        "    mask = (df['YearMonth'] == year_month)  # Máscara para o mês atual\n",
        "    df.loc[mask, 'Strategy_Daily_Return'] = df.loc[mask, stock]  # Atribuir o retorno diário da ação escolhida\n",
        "\n",
        "# Calcular o retorno acumulado da estratégia\n",
        "df['Strategy_Cumulative_Return'] = (1 + df['Strategy_Daily_Return']).cumprod()\n",
        "\n",
        "# Exibir as primeiras linhas do DataFrame com o retorno acumulado da estratégia\n",
        "df[['YearMonth', 'Strategy_Daily_Return', 'Strategy_Cumulative_Return']].head()\n"
      ],
      "metadata": {
        "colab": {
          "base_uri": "https://localhost:8080/",
          "height": 206
        },
        "id": "PcZVxjfifyNA",
        "outputId": "a7a257c1-aa0f-4cf4-8659-ab3bb6ff6266"
      },
      "execution_count": null,
      "outputs": [
        {
          "output_type": "execute_result",
          "data": {
            "text/plain": [
              "  YearMonth  Strategy_Daily_Return  Strategy_Cumulative_Return\n",
              "0   2010-01              -0.002182                    0.997818\n",
              "1   2010-01               0.005467                    1.003273\n",
              "2   2010-01               0.016857                    1.020185\n",
              "3   2010-01               0.036364                    1.057283\n",
              "4   2010-01              -0.011352                    1.045281"
            ],
            "text/html": [
              "\n",
              "  <div id=\"df-b70b7a5d-4bd6-45cb-ad5d-f61117d0e62c\" class=\"colab-df-container\">\n",
              "    <div>\n",
              "<style scoped>\n",
              "    .dataframe tbody tr th:only-of-type {\n",
              "        vertical-align: middle;\n",
              "    }\n",
              "\n",
              "    .dataframe tbody tr th {\n",
              "        vertical-align: top;\n",
              "    }\n",
              "\n",
              "    .dataframe thead th {\n",
              "        text-align: right;\n",
              "    }\n",
              "</style>\n",
              "<table border=\"1\" class=\"dataframe\">\n",
              "  <thead>\n",
              "    <tr style=\"text-align: right;\">\n",
              "      <th></th>\n",
              "      <th>YearMonth</th>\n",
              "      <th>Strategy_Daily_Return</th>\n",
              "      <th>Strategy_Cumulative_Return</th>\n",
              "    </tr>\n",
              "  </thead>\n",
              "  <tbody>\n",
              "    <tr>\n",
              "      <th>0</th>\n",
              "      <td>2010-01</td>\n",
              "      <td>-0.002182</td>\n",
              "      <td>0.997818</td>\n",
              "    </tr>\n",
              "    <tr>\n",
              "      <th>1</th>\n",
              "      <td>2010-01</td>\n",
              "      <td>0.005467</td>\n",
              "      <td>1.003273</td>\n",
              "    </tr>\n",
              "    <tr>\n",
              "      <th>2</th>\n",
              "      <td>2010-01</td>\n",
              "      <td>0.016857</td>\n",
              "      <td>1.020185</td>\n",
              "    </tr>\n",
              "    <tr>\n",
              "      <th>3</th>\n",
              "      <td>2010-01</td>\n",
              "      <td>0.036364</td>\n",
              "      <td>1.057283</td>\n",
              "    </tr>\n",
              "    <tr>\n",
              "      <th>4</th>\n",
              "      <td>2010-01</td>\n",
              "      <td>-0.011352</td>\n",
              "      <td>1.045281</td>\n",
              "    </tr>\n",
              "  </tbody>\n",
              "</table>\n",
              "</div>\n",
              "    <div class=\"colab-df-buttons\">\n",
              "\n",
              "  <div class=\"colab-df-container\">\n",
              "    <button class=\"colab-df-convert\" onclick=\"convertToInteractive('df-b70b7a5d-4bd6-45cb-ad5d-f61117d0e62c')\"\n",
              "            title=\"Convert this dataframe to an interactive table.\"\n",
              "            style=\"display:none;\">\n",
              "\n",
              "  <svg xmlns=\"http://www.w3.org/2000/svg\" height=\"24px\" viewBox=\"0 -960 960 960\">\n",
              "    <path d=\"M120-120v-720h720v720H120Zm60-500h600v-160H180v160Zm220 220h160v-160H400v160Zm0 220h160v-160H400v160ZM180-400h160v-160H180v160Zm440 0h160v-160H620v160ZM180-180h160v-160H180v160Zm440 0h160v-160H620v160Z\"/>\n",
              "  </svg>\n",
              "    </button>\n",
              "\n",
              "  <style>\n",
              "    .colab-df-container {\n",
              "      display:flex;\n",
              "      gap: 12px;\n",
              "    }\n",
              "\n",
              "    .colab-df-convert {\n",
              "      background-color: #E8F0FE;\n",
              "      border: none;\n",
              "      border-radius: 50%;\n",
              "      cursor: pointer;\n",
              "      display: none;\n",
              "      fill: #1967D2;\n",
              "      height: 32px;\n",
              "      padding: 0 0 0 0;\n",
              "      width: 32px;\n",
              "    }\n",
              "\n",
              "    .colab-df-convert:hover {\n",
              "      background-color: #E2EBFA;\n",
              "      box-shadow: 0px 1px 2px rgba(60, 64, 67, 0.3), 0px 1px 3px 1px rgba(60, 64, 67, 0.15);\n",
              "      fill: #174EA6;\n",
              "    }\n",
              "\n",
              "    .colab-df-buttons div {\n",
              "      margin-bottom: 4px;\n",
              "    }\n",
              "\n",
              "    [theme=dark] .colab-df-convert {\n",
              "      background-color: #3B4455;\n",
              "      fill: #D2E3FC;\n",
              "    }\n",
              "\n",
              "    [theme=dark] .colab-df-convert:hover {\n",
              "      background-color: #434B5C;\n",
              "      box-shadow: 0px 1px 3px 1px rgba(0, 0, 0, 0.15);\n",
              "      filter: drop-shadow(0px 1px 2px rgba(0, 0, 0, 0.3));\n",
              "      fill: #FFFFFF;\n",
              "    }\n",
              "  </style>\n",
              "\n",
              "    <script>\n",
              "      const buttonEl =\n",
              "        document.querySelector('#df-b70b7a5d-4bd6-45cb-ad5d-f61117d0e62c button.colab-df-convert');\n",
              "      buttonEl.style.display =\n",
              "        google.colab.kernel.accessAllowed ? 'block' : 'none';\n",
              "\n",
              "      async function convertToInteractive(key) {\n",
              "        const element = document.querySelector('#df-b70b7a5d-4bd6-45cb-ad5d-f61117d0e62c');\n",
              "        const dataTable =\n",
              "          await google.colab.kernel.invokeFunction('convertToInteractive',\n",
              "                                                    [key], {});\n",
              "        if (!dataTable) return;\n",
              "\n",
              "        const docLinkHtml = 'Like what you see? Visit the ' +\n",
              "          '<a target=\"_blank\" href=https://colab.research.google.com/notebooks/data_table.ipynb>data table notebook</a>'\n",
              "          + ' to learn more about interactive tables.';\n",
              "        element.innerHTML = '';\n",
              "        dataTable['output_type'] = 'display_data';\n",
              "        await google.colab.output.renderOutput(dataTable, element);\n",
              "        const docLink = document.createElement('div');\n",
              "        docLink.innerHTML = docLinkHtml;\n",
              "        element.appendChild(docLink);\n",
              "      }\n",
              "    </script>\n",
              "  </div>\n",
              "\n",
              "\n",
              "<div id=\"df-c6b614de-3a67-47d8-9c6e-b5882dea4c7c\">\n",
              "  <button class=\"colab-df-quickchart\" onclick=\"quickchart('df-c6b614de-3a67-47d8-9c6e-b5882dea4c7c')\"\n",
              "            title=\"Suggest charts.\"\n",
              "            style=\"display:none;\">\n",
              "\n",
              "<svg xmlns=\"http://www.w3.org/2000/svg\" height=\"24px\"viewBox=\"0 0 24 24\"\n",
              "     width=\"24px\">\n",
              "    <g>\n",
              "        <path d=\"M19 3H5c-1.1 0-2 .9-2 2v14c0 1.1.9 2 2 2h14c1.1 0 2-.9 2-2V5c0-1.1-.9-2-2-2zM9 17H7v-7h2v7zm4 0h-2V7h2v10zm4 0h-2v-4h2v4z\"/>\n",
              "    </g>\n",
              "</svg>\n",
              "  </button>\n",
              "\n",
              "<style>\n",
              "  .colab-df-quickchart {\n",
              "    background-color: #E8F0FE;\n",
              "    border: none;\n",
              "    border-radius: 50%;\n",
              "    cursor: pointer;\n",
              "    display: none;\n",
              "    fill: #1967D2;\n",
              "    height: 32px;\n",
              "    padding: 0 0 0 0;\n",
              "    width: 32px;\n",
              "  }\n",
              "\n",
              "  .colab-df-quickchart:hover {\n",
              "    background-color: #E2EBFA;\n",
              "    box-shadow: 0px 1px 2px rgba(60, 64, 67, 0.3), 0px 1px 3px 1px rgba(60, 64, 67, 0.15);\n",
              "    fill: #174EA6;\n",
              "  }\n",
              "\n",
              "  [theme=dark] .colab-df-quickchart {\n",
              "    background-color: #3B4455;\n",
              "    fill: #D2E3FC;\n",
              "  }\n",
              "\n",
              "  [theme=dark] .colab-df-quickchart:hover {\n",
              "    background-color: #434B5C;\n",
              "    box-shadow: 0px 1px 3px 1px rgba(0, 0, 0, 0.15);\n",
              "    filter: drop-shadow(0px 1px 2px rgba(0, 0, 0, 0.3));\n",
              "    fill: #FFFFFF;\n",
              "  }\n",
              "</style>\n",
              "\n",
              "  <script>\n",
              "    async function quickchart(key) {\n",
              "      const charts = await google.colab.kernel.invokeFunction(\n",
              "          'suggestCharts', [key], {});\n",
              "    }\n",
              "    (() => {\n",
              "      let quickchartButtonEl =\n",
              "        document.querySelector('#df-c6b614de-3a67-47d8-9c6e-b5882dea4c7c button');\n",
              "      quickchartButtonEl.style.display =\n",
              "        google.colab.kernel.accessAllowed ? 'block' : 'none';\n",
              "    })();\n",
              "  </script>\n",
              "</div>\n",
              "    </div>\n",
              "  </div>\n"
            ]
          },
          "metadata": {},
          "execution_count": 17
        }
      ]
    },
    {
      "cell_type": "markdown",
      "source": [
        "O DataFrame agora inclui duas novas colunas:\n",
        "\n",
        "Strategy_Daily_Return: Mostra o retorno diário com base na estratégia de manter a ação escolhida em carteira até o final do mês seguinte.\n",
        "Strategy_Cumulative_Return: Mostra o retorno acumulado dessa estratégia ao longo do tempo.\n",
        "Agora, para o passo 4, vamos criar um gráfico comparativo do retorno acumulado entre essa estratégia e a carteira equally weighted. Depois, no passo 5, avaliaremos se a estratégia é melhor ou pior que o cenário-base usando métricas relevantes."
      ],
      "metadata": {
        "id": "RY4r-hqvfzL6"
      }
    },
    {
      "cell_type": "code",
      "source": [
        "# Configurar o gráfico\n",
        "plt.figure(figsize=(14, 7))\n",
        "\n",
        "# Plotar o retorno acumulado para a carteira equally weighted, a carteira otimizada e a estratégia proposta\n",
        "plt.plot(df['Portfolio_Cumulative_Return'], label='Equally Weighted Portfolio')\n",
        "plt.plot(df['Portfolio_Cumulative_Return_Optimized'], label='Optimized Portfolio')\n",
        "plt.plot(df['Strategy_Cumulative_Return'], label='Proposed Strategy')\n",
        "\n",
        "# Configurações adicionais\n",
        "plt.title('Comparative Cumulative Returns')\n",
        "plt.xlabel('Days')\n",
        "plt.ylabel('Cumulative Return')\n",
        "plt.legend()\n",
        "plt.grid(True)\n",
        "\n",
        "# Exibir o gráfico\n",
        "plt.show()\n"
      ],
      "metadata": {
        "colab": {
          "base_uri": "https://localhost:8080/",
          "height": 641
        },
        "id": "LTvCK59ff2yI",
        "outputId": "888723dd-9c3b-47be-dc32-a1debf33f542"
      },
      "execution_count": null,
      "outputs": [
        {
          "output_type": "display_data",
          "data": {
            "text/plain": [
              "<Figure size 1400x700 with 1 Axes>"
            ],
            "image/png": "[encoded data removed]"
          },
          "metadata": {}
        }
      ]
    },
    {
      "cell_type": "markdown",
      "source": [
        "O gráfico acima compara o retorno acumulado entre a carteira com alocação de igual peso (\"Equally Weighted Portfolio\"), a carteira otimizada para maximizar o índice de Sharpe (\"Optimized Portfolio\") e a estratégia proposta (\"Proposed Strategy\").\n",
        "\n",
        "Agora, vamos calcular algumas métricas para a estratégia proposta, incluindo o retorno anualizado, a volatilidade anualizada, o índice de Sharpe e o Máximo Drawdown. Isso nos ajudará a avaliar se a estratégia é melhor ou pior que o cenário-base."
      ],
      "metadata": {
        "id": "vwCcM0TTf5SY"
      }
    },
    {
      "cell_type": "code",
      "source": [
        "# Calcular o retorno médio diário da estratégia proposta\n",
        "mean_daily_return_strategy = df['Strategy_Daily_Return'].mean()\n",
        "\n",
        "# Calcular o retorno anualizado da estratégia proposta\n",
        "portfolio_return_annualized_strategy = mean_daily_return_strategy * trading_days\n",
        "\n",
        "# Calcular a volatilidade diária da estratégia proposta\n",
        "daily_volatility_strategy = df['Strategy_Daily_Return'].std()\n",
        "\n",
        "# Calcular a volatilidade anualizada da estratégia proposta\n",
        "portfolio_volatility_annualized_strategy = daily_volatility_strategy * np.sqrt(trading_days)\n",
        "\n",
        "# Calcular o índice de Sharpe da estratégia proposta\n",
        "sharpe_ratio_strategy = (portfolio_return_annualized_strategy - risk_free_rate) / portfolio_volatility_annualized_strategy\n",
        "\n",
        "# Encontrar o pico e o vale na série de retorno acumulado da estratégia proposta para calcular o Máximo Drawdown\n",
        "peak_strategy, trough_strategy = df['Strategy_Cumulative_Return'].max(), df['Strategy_Cumulative_Return'].min()\n",
        "\n",
        "# Calcular o Máximo Drawdown para a estratégia proposta\n",
        "max_drawdown_strategy = (trough_strategy - peak_strategy) / peak_strategy\n",
        "\n",
        "# Exibir as métricas\n",
        "portfolio_return_annualized_strategy, portfolio_volatility_annualized_strategy, sharpe_ratio_strategy, max_drawdown_strategy\n"
      ],
      "metadata": {
        "colab": {
          "base_uri": "https://localhost:8080/"
        },
        "id": "N7GMb90Lf7aH",
        "outputId": "10100397-5004-46f8-8aa1-0f4ea4628597"
      },
      "execution_count": null,
      "outputs": [
        {
          "output_type": "execute_result",
          "data": {
            "text/plain": [
              "(1.2971097975875105,\n",
              " 0.38222264169658504,\n",
              " 3.0495571701709703,\n",
              " -0.9999998416154103)"
            ]
          },
          "metadata": {},
          "execution_count": 19
        }
      ]
    },
    {
      "cell_type": "markdown",
      "source": [
        "As métricas para a estratégia proposta são:\n",
        "Retorno Anualizado: 129.71\n",
        "Volatilidade Anualizada: 38.22\n",
        "Índice de Sharpe: 3.05\n",
        "Máximo Drawdown: − 100\n",
        "\n",
        "Embora o índice de Sharpe seja extremamente alto, o Máximo Drawdown é praticamente − 100, o que indica um risco extremamente alto. Essa estratégia parece ser muito volátil e arriscada, mesmo com um índice de Sharpe elevado.\n",
        "\n",
        " Em resumo, a estratégia proposta tem um alto potencial de retorno, como indicado pelo índice de Sharpe, mas vem com um nível de risco extremamente elevado, como indicado pelo Máximo Drawdown. Portanto, é crucial considerar ambos os fatores ao avaliar a eficácia dessa estratégia em comparação com o cenário-base."
      ],
      "metadata": {
        "id": "QIRXyZY_f-Pn"
      }
    }
  ]
}