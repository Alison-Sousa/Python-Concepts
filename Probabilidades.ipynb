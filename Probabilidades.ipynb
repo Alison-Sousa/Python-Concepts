{
  "nbformat": 4,
  "nbformat_minor": 0,
  "metadata": {
    "colab": {
      "provenance": [],
      "authorship_tag": "ABX9TyNjVr991BN/1Ol0OfzYl73M"
    },
    "kernelspec": {
      "name": "python3",
      "display_name": "Python 3"
    },
    "language_info": {
      "name": "python"
    }
  },
  "cells": [
    {
      "cell_type": "code",
      "execution_count": null,
      "metadata": {
        "colab": {
          "base_uri": "https://localhost:8080/"
        },
        "id": "Qqn0flQaEITt",
        "outputId": "ad345fae-d1c9-4df2-d7b4-688828a7e757"
      },
      "outputs": [
        {
          "output_type": "stream",
          "name": "stdout",
          "text": [
            "Número de maneiras de subir uma escada de 4 degraus (1, 2 ou 3 degraus por vez): 7\n"
          ]
        }
      ],
      "source": [
        "def stairs(n, k):\n",
        "    \"\"\"\n",
        "    Calcula o número de maneiras de subir uma escada de n degraus,\n",
        "    tomando de 1 a k degraus por vez.\n",
        "\n",
        "    :param n: Número total de degraus\n",
        "    :param k: Número máximo de degraus que podem ser tomados por vez\n",
        "    :return: Número de maneiras de subir a escada\n",
        "    \"\"\"\n",
        "    # Caso base: Exatamente no topo\n",
        "    if n == 0:\n",
        "        return 1\n",
        "\n",
        "    # Caso base: Menos de 0 degraus (impossível)\n",
        "    if n < 0:\n",
        "        return 0\n",
        "\n",
        "    # Caso recursivo: Soma as maneiras para cada tamanho de passo\n",
        "    ways = 0\n",
        "    for step in range(1, min(k, n) + 1):\n",
        "        ways += stairs(n - step, k)\n",
        "\n",
        "    return ways\n",
        "\n",
        "# Testando a função com n = 4 degraus e k = 3 passos máximos\n",
        "print(\"Número de maneiras de subir uma escada de 4 degraus (1, 2 ou 3 degraus por vez):\", stairs(4, 3))\n"
      ]
    },
    {
      "cell_type": "code",
      "source": [
        "def stairs(n, k, memo=None):\n",
        "    \"\"\"\n",
        "    Calcula o número de maneiras de subir uma escada de n degraus,\n",
        "    tomando de 1 a k degraus por vez. Utiliza memoização para\n",
        "    otimizar a execução.\n",
        "\n",
        "    :param n: Número total de degraus\n",
        "    :param k: Número máximo de degraus que podem ser tomados por vez\n",
        "    :param memo: Dicionário para armazenar os resultados calculados\n",
        "    :return: Número de maneiras de subir a escada\n",
        "    \"\"\"\n",
        "    # Inicializa o dicionário de memoização na primeira chamada\n",
        "    if memo is None:\n",
        "        memo = {}\n",
        "\n",
        "    # Verifica se o valor já foi calculado\n",
        "    if n in memo:\n",
        "        return memo[n]\n",
        "\n",
        "    # Caso base: Exatamente no topo\n",
        "    if n == 0:\n",
        "        return 1\n",
        "\n",
        "    # Caso base: Menos de 0 degraus (impossível)\n",
        "    if n < 0:\n",
        "        return 0\n",
        "\n",
        "    # Caso recursivo: Soma as maneiras para cada tamanho de passo\n",
        "    ways = 0\n",
        "    for step in range(1, min(k, n) + 1):\n",
        "        ways += stairs(n - step, k, memo)\n",
        "\n",
        "    # Armazena o resultado calculado no dicionário\n",
        "    memo[n] = ways\n",
        "\n",
        "    return ways\n",
        "\n",
        "# Calculando para n = 25 com k = 24 (já que k < n)\n",
        "result = stairs(25, 24)\n",
        "result\n"
      ],
      "metadata": {
        "colab": {
          "base_uri": "https://localhost:8080/"
        },
        "id": "pggSNJ6PFHQw",
        "outputId": "90099d7e-5d43-4dc1-892e-ba63573737ec"
      },
      "execution_count": null,
      "outputs": [
        {
          "output_type": "execute_result",
          "data": {
            "text/plain": [
              "16777215"
            ]
          },
          "metadata": {},
          "execution_count": 3
        }
      ]
    }
  ]
}