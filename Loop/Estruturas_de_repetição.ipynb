{
  "nbformat": 4,
  "nbformat_minor": 0,
  "metadata": {
    "colab": {
      "name": "Estruturas de repetição.ipynb",
      "provenance": [],
      "collapsed_sections": []
    },
    "kernelspec": {
      "name": "python3",
      "display_name": "Python 3"
    },
    "language_info": {
      "name": "python"
    }
  },
  "cells": [
    {
      "cell_type": "markdown",
      "source": [
        "**Aula 4 - Estruturas de repetição **\n",
        "Exemplos discutidos em aula"
      ],
      "metadata": {
        "id": "o_jEuR9eCx97"
      }
    },
    {
      "cell_type": "code",
      "source": [
        "voltas = int(input('Informe o número de voltas do laço de repetição    '))\n",
        "contador_voltas = 0\n",
        "print(' Entrando no laço de repetição / loop')\n",
        "while (contador_voltas < voltas):\n",
        "  print('Volta número ...', contador_voltas)\n",
        "  contador_voltas = contador_voltas + 1\n",
        "print(\"passei por aqui.....\")\n",
        "print('Saiu do laço de repetição')"
      ],
      "metadata": {
        "colab": {
          "base_uri": "https://localhost:8080/"
        },
        "id": "Jq-737cEC29G",
        "outputId": "06da14b8-9e88-4fcf-e0b8-f8a2771edb03"
      },
      "execution_count": null,
      "outputs": [
        {
          "output_type": "stream",
          "name": "stdout",
          "text": [
            "Informe o número de voltas do laço de repetição    8\n",
            " Entrando no laço de repetição / loop\n",
            "Volta número ... 0\n",
            "Volta número ... 1\n",
            "Volta número ... 2\n",
            "Volta número ... 3\n",
            "Volta número ... 4\n",
            "Volta número ... 5\n",
            "Volta número ... 6\n",
            "Volta número ... 7\n",
            "passei por aqui.....\n",
            "Saiu do laço de repetição\n"
          ]
        }
      ]
    },
    {
      "cell_type": "markdown",
      "source": [
        "Tabuada de um número fornecido pelo usuário\n",
        "\n",
        "vamos supor que o usuário informou o número 2\n",
        "\n",
        "\n",
        "2 x 0 = 0\n",
        "2 x 1 = 2\n",
        "2 x 2 = 4\n",
        "...\n",
        "2 x 10 = 20"
      ],
      "metadata": {
        "id": "uB1QX16_Ewil"
      }
    },
    {
      "cell_type": "code",
      "source": [
        "# Perguntar para o usuário qual é a tabuada que ele deseja fazer\n",
        "numero = int(input('infomre o número que deseja para a tabuada...'))\n",
        "contador = 0\n",
        "while contador <= 10:\n",
        "  resultado = contador * numero \n",
        "  print(numero,' x ', contador, ' = ', resultado)\n",
        "  contador = contador + 1 "
      ],
      "metadata": {
        "colab": {
          "base_uri": "https://localhost:8080/"
        },
        "id": "chXNyMjNFd9P",
        "outputId": "68b4417c-82ac-4e5c-bf58-e00d41e5246d"
      },
      "execution_count": null,
      "outputs": [
        {
          "output_type": "stream",
          "name": "stdout",
          "text": [
            "infomre o número que deseja para a tabuada...3\n",
            "3  x  5  =  15\n",
            "3  x  6  =  18\n",
            "3  x  7  =  21\n",
            "3  x  8  =  24\n",
            "3  x  9  =  27\n",
            "3  x  10  =  30\n"
          ]
        }
      ]
    },
    {
      "cell_type": "code",
      "source": [
        "# Perguntar para o usuário qual é a tabuada que ele deseja fazer\n",
        "numero = int(input('infomre o número que deseja para a tabuada...'))\n",
        "inicio = int(input('informe o valor inicial da tabuada ....'))\n",
        "fim    = int(input('informe o último valor da tabuada ...'))\n",
        "contador = inicio\n",
        "while contador <= fim:\n",
        "  resultado = contador * numero \n",
        "  print(numero,' x ', contador, ' = ', resultado)\n",
        "  contador = contador + 1 "
      ],
      "metadata": {
        "colab": {
          "base_uri": "https://localhost:8080/"
        },
        "id": "YYNfOI3vHfvH",
        "outputId": "e004403f-ba03-4292-9694-1f4daa0d7935"
      },
      "execution_count": null,
      "outputs": [
        {
          "output_type": "stream",
          "name": "stdout",
          "text": [
            "infomre o número que deseja para a tabuada...103\n",
            "informe o valor inicial da tabuada ....100\n",
            "informe o último valor da tabuada ...120\n",
            "103  x  100  =  10300\n",
            "103  x  101  =  10403\n",
            "103  x  102  =  10506\n",
            "103  x  103  =  10609\n",
            "103  x  104  =  10712\n",
            "103  x  105  =  10815\n",
            "103  x  106  =  10918\n",
            "103  x  107  =  11021\n",
            "103  x  108  =  11124\n",
            "103  x  109  =  11227\n",
            "103  x  110  =  11330\n",
            "103  x  111  =  11433\n",
            "103  x  112  =  11536\n",
            "103  x  113  =  11639\n",
            "103  x  114  =  11742\n",
            "103  x  115  =  11845\n",
            "103  x  116  =  11948\n",
            "103  x  117  =  12051\n",
            "103  x  118  =  12154\n",
            "103  x  119  =  12257\n",
            "103  x  120  =  12360\n"
          ]
        }
      ]
    },
    {
      "cell_type": "markdown",
      "source": [
        "Exemplo da tabuada utilizando o FOR"
      ],
      "metadata": {
        "id": "DaQ6jv_6JwMh"
      }
    },
    {
      "cell_type": "code",
      "source": [
        "# Perguntar para o usuário qual é a tabuada que ele deseja fazer\n",
        "numero = int(input('infomre o número que deseja para a tabuada...'))\n",
        "for contador in range(0, 10):\n",
        "  resultado = contador * numero \n",
        "  print(numero,' x ', contador, ' = ', resultado)\n",
        "  # contador = contador + 1 - diferente do while essa operação está implicita no range"
      ],
      "metadata": {
        "colab": {
          "base_uri": "https://localhost:8080/"
        },
        "id": "lX9839cnJzsC",
        "outputId": "c94d9d8e-ce83-40c8-b07d-5aaee79e5156"
      },
      "execution_count": null,
      "outputs": [
        {
          "output_type": "stream",
          "name": "stdout",
          "text": [
            "infomre o número que deseja para a tabuada...2\n",
            "2  x  0  =  0\n",
            "2  x  1  =  2\n",
            "2  x  2  =  4\n",
            "2  x  3  =  6\n",
            "2  x  4  =  8\n",
            "2  x  5  =  10\n",
            "2  x  6  =  12\n",
            "2  x  7  =  14\n",
            "2  x  8  =  16\n",
            "2  x  9  =  18\n"
          ]
        }
      ]
    },
    {
      "cell_type": "code",
      "source": [
        "resposta = 'SIM'\n",
        "while resposta == 'SIM':\n",
        "  disciplina = input('informe a disciplina ...')\n",
        "  resposta = input('Se você deseja continuar digite SIM...')\n",
        "print('fim do laço de repetição')"
      ],
      "metadata": {
        "colab": {
          "base_uri": "https://localhost:8080/"
        },
        "id": "LYdfX5w-LEyj",
        "outputId": "bd215d1c-50ac-4f2a-bfbd-0e348307a866"
      },
      "execution_count": null,
      "outputs": [
        {
          "name": "stdout",
          "output_type": "stream",
          "text": [
            "informe a disciplina ...MATEMÁTICA\n",
            "Se você deseja continuar digite SIM...SIM\n",
            "informe a disciplina ...IA\n",
            "Se você deseja continuar digite SIM...SIM\n",
            "informe a disciplina ...BIOLOGIA\n",
            "Se você deseja continuar digite SIM...X\n"
          ]
        }
      ]
    },
    {
      "cell_type": "markdown",
      "source": [
        "**Atividade 5 - Exercício 1**\n",
        "\n",
        "Altere o programa feito anteriormente e adicione uma estrutura de repetição que permita ao usuário informar o nome e calcular a média de 10 disciplinas.\n",
        "\n",
        "\n",
        " Para ser aprovado em uma disciplina o aluno precisa obter média final maior ou igual a 7,00. Considere que em uma determinada disciplina ele realiza 3 atividades com os seguintes pesos: Prova – peso 45%, Projeto – peso 25%, Atividades – peso 30%. Faça um programa para receber o nome da disciplina, as notas que o aluno obteve em cada atividade, calcule e mostre a média final e o resultado: Aprovado ou Reprovado\n",
        "\n",
        "\n",
        "entradas\n",
        "  nome da disciplina\n",
        "  prova - 45%\n",
        "   projeto - 25%\n",
        "   atividades - 30%\n",
        "Cáclulo \n",
        "    media = prova * 0.45 + projeto * 0.25 + atividades * 0.30\n",
        "Decisão media >= 7.0 para ser aprovado\n",
        "        senao reprovado\n",
        "Mostra nome da disciplina, média, situação"
      ],
      "metadata": {
        "id": "IZagN4GiMivF"
      }
    },
    {
      "cell_type": "code",
      "source": [
        "resposta = 'SIM'\n",
        "while resposta == 'SIM':\n",
        "  nome_disciplina =    input(\"Informe o nome da disciplina   \")\n",
        "  nota_prova =   float(input(\"Informe a nota da prova        \"))\n",
        "  nota_projeto = float(input(\"Informe a nota do projeto      \"))\n",
        "  nota_ativ =    float(input(\"Informe a nota das atividades  \"))\n",
        "  media = nota_prova * 0.45 + nota_projeto * 0.25 + nota_ativ * 0.3\n",
        "  print(media)\n",
        "  print(\"A media do aluno na disciplina \", nome_disciplina, \" foi %.4f\" %media)\n",
        "  if(media >= 7.0):\n",
        "   print(\"Aprovado\")\n",
        "  else:\n",
        "    print(\"Reprovado\")\n",
        "  resposta = input('Se você deseja continuar digite SIM...')\n",
        "print('fim do laço de repetição')"
      ],
      "metadata": {
        "colab": {
          "base_uri": "https://localhost:8080/"
        },
        "id": "6fb1qEwQquke",
        "outputId": "c6c1be84-25fe-4e9f-98e1-96ebe6e194c2"
      },
      "execution_count": null,
      "outputs": [
        {
          "output_type": "stream",
          "name": "stdout",
          "text": [
            "Informe o nome da disciplina   a\n",
            "Informe a nota da prova        1\n",
            "Informe a nota do projeto      5\n",
            "Informe a nota das atividades  9\n",
            "4.3999999999999995\n",
            "A media do aluno na disciplina  a  foi 4.4000\n",
            "Reprovado\n",
            "Se você deseja continuar digite SIM...NÃO\n",
            "fim do laço de repetição\n"
          ]
        }
      ]
    },
    {
      "cell_type": "markdown",
      "source": [
        "No exemplo a seguir deve-se informar a quantidade de alunos da turma. Na linha 2 o for vai executar o laço de repetição até que a variável repetir atinja o valor armazenado em n_alunos."
      ],
      "metadata": {
        "id": "K_Ald2qqs7si"
      }
    },
    {
      "cell_type": "markdown",
      "source": [
        ""
      ],
      "metadata": {
        "id": "1q4J-zp1Hadn"
      }
    },
    {
      "cell_type": "code",
      "source": [
        "nome_disciplina =    input(\"Informe o nome da disciplina para a qual deseja registrar as notas  \")\n",
        "n_alunos = int(input(\"Digite a quantidade de alunos da turma\"))\n",
        "for repetir in range(0, n_alunos):\n",
        "  nome_aluno =          input(\"Informe o nome do aluno       \")\n",
        "  nota_prova =   float(input(\"Informe a nota da prova        \"))\n",
        "  nota_projeto = float(input(\"Informe a nota do projeto      \"))\n",
        "  nota_ativ =    float(input(\"Informe a nota das atividades  \"))\n",
        "  media = nota_prova * 0.45 + nota_projeto * 0.25 + nota_ativ * 0.3\n",
        "  print(media)\n",
        "  print(\"A media do aluno na disciplina \", nome_disciplina, \" foi %.4f\" %media)\n",
        "  if(media >= 7.0):\n",
        "   print(\"Aprovado\")\n",
        "  else:\n",
        "    print(\"Reprovado\")\n",
        "print('fim do laço de repetição')"
      ],
      "metadata": {
        "id": "EHCjZibiropM"
      },
      "execution_count": null,
      "outputs": []
    },
    {
      "cell_type": "markdown",
      "source": [
        "Vamos acrescentar ao programa anterior uma rotina para calcular a média entre as notas do grupo de alunos"
      ],
      "metadata": {
        "id": "xpS4MXDQuswK"
      }
    },
    {
      "cell_type": "code",
      "source": [
        "nome_disciplina =    input(\"Informe o nome da disciplina para a qual deseja registrar as notas  \")\n",
        "n_alunos = int(input(\"Digite a quantidade de alunos da turma\"))\n",
        "soma_notas = 0.0;\n",
        "for repetir in range(0, n_alunos):\n",
        "  nome_aluno =          input(\"Informe o nome do aluno       \")\n",
        "  nota_prova =   float(input(\"Informe a nota da prova        \"))\n",
        "  nota_projeto = float(input(\"Informe a nota do projeto      \"))\n",
        "  nota_ativ =    float(input(\"Informe a nota das atividades  \"))\n",
        "  media = nota_prova * 0.45 + nota_projeto * 0.25 + nota_ativ * 0.3\n",
        "  soma_notas = soma_notas + media # incrementa a variável soma_notas com a media do aluno (acumula a média)\n",
        "  print(media)\n",
        "  print(\"A media do aluno \", nome_aluno , \" na disciplina \", nome_disciplina, \" foi %.4f\" %media)\n",
        "  if(media >= 7.0):\n",
        "   print(\"Aprovado\")\n",
        "  else:\n",
        "    print(\"Reprovado\")\n",
        "print('fim do laço de repetição')\n",
        "media_turma = soma_notas / n_alunos\n",
        "print('A média da turma foi ...', media_turma)"
      ],
      "metadata": {
        "id": "sFPyETBBusE6"
      },
      "execution_count": null,
      "outputs": []
    },
    {
      "cell_type": "markdown",
      "source": [
        "**Atividade 5 - Exercício 2**\n",
        "Permita que o usuário informe o nome de 10 pessoas (uma  a uma) e os dados para calcular o seu IMC conforme especificações apresentadas a seguir:\n",
        "\n",
        "IMC = peso (KG) / altura ao quadrado (m). Informe a classificação do IMC na tela de acordo com as regras abaixo:\n",
        "\n",
        "\n",
        "\n",
        "\n",
        "*   < 18.5 - abaixo do peso\n",
        "*   de 18.5 a menor que 25.0 - saudável\n",
        "*   de 25.0 a menor que 30.0 - sobrepeso\n",
        "*   de 30.0 a menor que 35.0 - obesidade grau 1\n",
        "*   de 35.0 a menor que 40.0 - obesidade grau 2 (severa)\n",
        "*   de 40 em diante - obesidade grau 3 (mórbida)\n",
        "\n",
        "\n",
        "\n",
        "\n",
        "\n",
        "\n",
        "\n"
      ],
      "metadata": {
        "id": "QradETNO7HBP"
      }
    },
    {
      "cell_type": "code",
      "source": [
        "for repetir in range(0, 10):\n",
        "  peso =   float(input(\"Informe o seu peso        \"))\n",
        "  altura  = float(input(\"Informe a altura      \"))\n",
        "  imc = peso / (altura * altura)\n",
        "  print(\"O IMC calculado foi ...\", imc)\n",
        "  if(imc < 18.5):\n",
        "   print(\"Abaixo do peso\")\n",
        "  elif(imc >= 18.5 and imc < 25):\n",
        "    print(\"Saudável\")\n",
        "  elif(imc >= 25.0 and imc < 30):\n",
        "    print(\"Sobrepeso\")\n",
        "  elif(imc >= 30.0 and imc <=35):\n",
        "    print(\"Obesidade grau 1\")\n",
        "  elif(imc >= 35.0 and imc < 40):\n",
        "    print(\"Obesidade grau 2 - Severa\")\n",
        "  else:\n",
        "    print(\"Obesidade grau 3 - Mórbida\")\n",
        "print('fim do laço de repetição')"
      ],
      "metadata": {
        "id": "0f0ZGtyX7Zg0"
      },
      "execution_count": null,
      "outputs": []
    },
    {
      "cell_type": "markdown",
      "source": [
        "**Atividade 5 - Exercício 3**\n",
        "Altere o exercício anterior para que o usuário determine quando deseja encerrar o laço\n",
        "\n",
        "***Solução 1*** o usuário determina quantas vezes deseja repetir o programa utilizando - Utilizando a estrutura FOR"
      ],
      "metadata": {
        "id": "WkevFPsl-n6-"
      }
    },
    {
      "cell_type": "code",
      "source": [
        "n_vezes = int(input(\"Para quantas pessoas deseja realizar o cálculo do IMC ...\")) # O usuário informa quantas vezes deseja repetir o processo\n",
        "for repetir in range(0, n_vezes): # O controle de repetições é feito automaticamente com base na faixa de valores estabelecida no range\n",
        "  peso =   float(input(\"Informe o seu peso        \"))\n",
        "  altura  = float(input(\"Informe a altura      \"))\n",
        "  imc = peso / (altura * altura)\n",
        "  print(\"O IMC calculado foi ...\", imc)\n",
        "  if(imc < 18.5):\n",
        "   print(\"Abaixo do peso\")\n",
        "  elif(imc >= 18.5 and imc < 25):\n",
        "    print(\"Saudável\")\n",
        "  elif(imc >= 25.0 and imc < 30):\n",
        "    print(\"Sobrepeso\")\n",
        "  elif(imc >= 30.0 and imc <=35):\n",
        "    print(\"Obesidade grau 1\")\n",
        "  elif(imc >= 35.0 and imc < 40):\n",
        "    print(\"Obesidade grau 2 - Severa\")\n",
        "  else:\n",
        "    print(\"Obesidade grau 3 - Mórbida\")\n",
        "print('fim do laço de repetição')"
      ],
      "metadata": {
        "colab": {
          "base_uri": "https://localhost:8080/"
        },
        "id": "_zZCbWQs-uzG",
        "outputId": "0c354ee4-89fc-4af0-b124-09a61382098b"
      },
      "execution_count": 2,
      "outputs": [
        {
          "output_type": "stream",
          "name": "stdout",
          "text": [
            "Para quantas pessoas deseja realizar o cálculo do IMC ...2\n",
            "Informe o seu peso        1\n",
            "Informe a altura      1\n",
            "O IMC calculado foi ... 1.0\n",
            "Abaixo do peso\n",
            "Informe o seu peso        1\n",
            "Informe a altura      1\n",
            "O IMC calculado foi ... 1.0\n",
            "Abaixo do peso\n",
            "fim do laço de repetição\n"
          ]
        }
      ]
    },
    {
      "cell_type": "markdown",
      "source": [
        "**Atividade 5 - Exercício 3**\n",
        "Altere o exercício anterior para que o usuário determine quando deseja encerrar o laço \n",
        "\n",
        "***Solução 2*** o usuário determina quantas vezes deseja repetir o programa utilizando - Utilizando a estrutura WHILE"
      ],
      "metadata": {
        "id": "k8JfhBRe_lQo"
      }
    },
    {
      "cell_type": "code",
      "source": [
        "n_vezes = int(input(\"Para quantas pessoas deseja realizar o cálculo do IMC ...\")) # O usuário informa quantas vezes deseja repetir o processo\n",
        "repetir = 1\n",
        "while (repetir <= n_vezes):\n",
        "  peso =   float(input(\"Informe o seu peso        \"))\n",
        "  altura  = float(input(\"Informe a altura      \"))\n",
        "  imc = peso / (altura * altura)\n",
        "  print(\"O IMC calculado foi ...\", imc)\n",
        "  if(imc < 18.5):\n",
        "   print(\"Abaixo do peso\")\n",
        "  elif(imc >= 18.5 and imc < 25):\n",
        "    print(\"Saudável\")\n",
        "  elif(imc >= 25.0 and imc < 30):\n",
        "    print(\"Sobrepeso\")\n",
        "  elif(imc >= 30.0 and imc <=35):\n",
        "    print(\"Obesidade grau 1\")\n",
        "  elif(imc >= 35.0 and imc < 40):\n",
        "    print(\"Obesidade grau 2 - Severa\")\n",
        "  else:\n",
        "    print(\"Obesidade grau 3 - Mórbida\")\n",
        "  repetir = repetir + 1 # incrementa a variável que controla o número de repetições\n",
        "print('fim do laço de repetição')"
      ],
      "metadata": {
        "id": "6suNERqvptz9",
        "colab": {
          "base_uri": "https://localhost:8080/"
        },
        "outputId": "24751107-51be-4a2d-bb86-f9fed6af4cfa"
      },
      "execution_count": 4,
      "outputs": [
        {
          "output_type": "stream",
          "name": "stdout",
          "text": [
            "Para quantas pessoas deseja realizar o cálculo do IMC ...0\n",
            "fim do laço de repetição\n"
          ]
        }
      ]
    },
    {
      "cell_type": "markdown",
      "source": [
        "**Atividade 5 - Exercício 3**\n",
        "Altere o exercício anterior para que o usuário determine quando deseja encerrar o laço \n",
        "\n",
        "***Solução 3 *** perguntando ao usuário se ele deseja repetir o processo - Utilizando a estrutura WHILE"
      ],
      "metadata": {
        "id": "dvW_A7sUAiqB"
      }
    },
    {
      "cell_type": "code",
      "source": [
        "resposta = 'SIM' # variável de controle que armazenará a resposta do usuário a cada iteração, para entrar no laço é necessário inicializá-la com o valor SIM\n",
        "while (resposta == 'SIM' or resposta == 'sim'):\n",
        "  peso =   float(input(\"Informe o seu peso        \"))\n",
        "  altura  = float(input(\"Informe a altura      \"))\n",
        "  imc = peso / (altura * altura)\n",
        "  print(\"O IMC calculado foi ...\", imc)\n",
        "  if(imc < 18.5):\n",
        "   print(\"Abaixo do peso\")\n",
        "  elif(imc >= 18.5 and imc < 25):\n",
        "    print(\"Saudável\")\n",
        "  elif(imc >= 25.0 and imc < 30):\n",
        "    print(\"Sobrepeso\")\n",
        "  elif(imc >= 30.0 and imc <=35):\n",
        "    print(\"Obesidade grau 1\")\n",
        "  elif(imc >= 35.0 and imc < 40):\n",
        "    print(\"Obesidade grau 2 - Severa\")\n",
        "  else:\n",
        "    print(\"Obesidade grau 3 - Mórbida\")\n",
        "  resposta = input('Deseja continuar? Escreva SIM ou sim...')\n",
        "print('fim do laço de repetição')"
      ],
      "metadata": {
        "id": "RK9hdfKyAwSk"
      },
      "execution_count": null,
      "outputs": []
    },
    {
      "cell_type": "markdown",
      "source": [
        "**Atividade 5 - Exercício 4**\n",
        "Altere o programa anterior para exibir o total de pessoas e a média de peso do grupo\n"
      ],
      "metadata": {
        "id": "hmMyyADdBjEC"
      }
    },
    {
      "cell_type": "code",
      "source": [
        "resposta = 'SIM' # variável de controle que armazenará a resposta do usuário a cada iteração, para entrar no laço é necessário inicializá-la com o valor SIM\n",
        "contador_pessoas = 0 # deve ser inicializada com valor 0\n",
        "soma_pesos = 0 \n",
        "while (resposta == 'SIM' or resposta == 'sim'):\n",
        "  peso =   float(input(\"Informe o seu peso        \"))\n",
        "  altura  = float(input(\"Informe a altura      \"))\n",
        "  imc = peso / (altura * altura)\n",
        "  print(\"O IMC calculado foi ...\", imc)\n",
        "  if(imc < 18.5):\n",
        "   print(\"Abaixo do peso\")\n",
        "  elif(imc >= 18.5 and imc < 25):\n",
        "    print(\"Saudável\")\n",
        "  elif(imc >= 25.0 and imc < 30):\n",
        "    print(\"Sobrepeso\")\n",
        "  elif(imc >= 30.0 and imc <=35):\n",
        "    print(\"Obesidade grau 1\")\n",
        "  elif(imc >= 35.0 and imc < 40):\n",
        "    print(\"Obesidade grau 2 - Severa\")\n",
        "  else:\n",
        "    print(\"Obesidade grau 3 - Mórbida\")\n",
        "  resposta = input('Deseja continuar? Escreva SIM ou sim...')\n",
        "  contador_pessoas = contador_pessoas + 1\n",
        "  soma_pesos = soma_pesos + peso\n",
        "print('fim do laço de repetição')\n",
        "media_peso = soma_pesos / contador_pessoas\n",
        "print(\" O total de pessoas participantes da pesquisa foi ...\", contador_pessoas)\n",
        "print(\"O peso médio das pessoas foi ...\", media_peso)"
      ],
      "metadata": {
        "colab": {
          "base_uri": "https://localhost:8080/"
        },
        "id": "Du8Kq-LEBinK",
        "outputId": "59ddf514-68d6-4398-908b-c6c0bf3baee1"
      },
      "execution_count": 9,
      "outputs": [
        {
          "output_type": "stream",
          "name": "stdout",
          "text": [
            "Informe o seu peso        1\n",
            "Informe a altura      1\n",
            "O IMC calculado foi ... 1.0\n",
            "Abaixo do peso\n",
            "Deseja continuar? Escreva SIM ou sim...sim\n",
            "Informe o seu peso        2\n",
            "Informe a altura      2\n",
            "O IMC calculado foi ... 0.5\n",
            "Abaixo do peso\n",
            "Deseja continuar? Escreva SIM ou sim...sim\n",
            "Informe o seu peso        3\n",
            "Informe a altura      3\n",
            "O IMC calculado foi ... 0.3333333333333333\n",
            "Abaixo do peso\n",
            "Deseja continuar? Escreva SIM ou sim...n\n",
            "fim do laço de repetição\n",
            " O total de pessoas participantes da pesquisa foi ... 3\n",
            "O peso médio das pessoas foi ... 2.0\n"
          ]
        }
      ]
    }
  ]
}